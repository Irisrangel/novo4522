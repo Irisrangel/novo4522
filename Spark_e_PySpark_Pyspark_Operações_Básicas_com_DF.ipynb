{
  "nbformat": 4,
  "nbformat_minor": 0,
  "metadata": {
    "kernelspec": {
      "display_name": "Python 3",
      "language": "python",
      "name": "python3"
    },
    "language_info": {
      "codemirror_mode": {
        "name": "ipython",
        "version": 3
      },
      "file_extension": ".py",
      "mimetype": "text/x-python",
      "name": "python",
      "nbconvert_exporter": "python",
      "pygments_lexer": "ipython3",
      "version": "3.7.3"
    },
    "colab": {
      "name": "Spark e PySpark - Pyspark - Operações Básicas com DF.ipynb",
      "provenance": [],
      "include_colab_link": true
    }
  },
  "cells": [
    {
      "cell_type": "markdown",
      "metadata": {
        "id": "view-in-github",
        "colab_type": "text"
      },
      "source": [
        "<a href=\"https://colab.research.google.com/github/Irisrangel/novo4522/blob/master/Spark_e_PySpark_Pyspark_Opera%C3%A7%C3%B5es_B%C3%A1sicas_com_DF.ipynb\" target=\"_parent\"><img src=\"https://colab.research.google.com/assets/colab-badge.svg\" alt=\"Open In Colab\"/></a>"
      ]
    },
    {
      "cell_type": "code",
      "metadata": {
        "id": "8A4U2XjjVKId"
      },
      "source": [
        "from pyspark.sql import SparkSession"
      ],
      "execution_count": null,
      "outputs": []
    },
    {
      "cell_type": "code",
      "metadata": {
        "id": "gs2c99hvVKIh"
      },
      "source": [
        "spark = SparkSession.builder.appName(\"Basics\").getOrCreate()"
      ],
      "execution_count": null,
      "outputs": []
    },
    {
      "cell_type": "code",
      "metadata": {
        "id": "bTbf-Q6bVKIk"
      },
      "source": [
        "df = spark.read.json(\"/home/leonardo/4522/funcionarios.json\")"
      ],
      "execution_count": null,
      "outputs": []
    },
    {
      "cell_type": "code",
      "metadata": {
        "id": "Pj0h2TAYVKIm",
        "outputId": "8701a61f-7a4f-478d-b8a6-3badbf4b6ddf"
      },
      "source": [
        "df.show()"
      ],
      "execution_count": null,
      "outputs": [
        {
          "output_type": "stream",
          "text": [
            "+---------+----------------+-------+---------------+-------+\n",
            "|    cargo|    departamento|id_func|           nome|salario|\n",
            "+---------+----------------+-------+---------------+-------+\n",
            "| Analista|        Projetos|      1|  Marcio Santos|   5000|\n",
            "|Instrutor|     Treinamento|      2|   Bruno Garcia|   4000|\n",
            "|Vendedora|          Vendas|      3|    Celia Silva|   3500|\n",
            "| Gerencia|Recursos Humanos|      4|   Beatriz Dias|   5500|\n",
            "|Instrutor|     Treinamento|      5| Sandro Correia|   4200|\n",
            "| Analista|        Projetos|      6|   Leticia Dias|   5100|\n",
            "| Analista|        Projetos|      7|   Cacio Farias|   5100|\n",
            "| Gerencia|   Administracao|      8|     Cezar Maia|   7000|\n",
            "|Vendedora|          Vendas|      9|   Amanda Nunes|   3500|\n",
            "|Vendedora|          Vendas|     10|   Paula Priore|   3500|\n",
            "| Analista|        Projetos|     11|     Carla Neto|   4000|\n",
            "|Vendedora|          Vendas|     12|   Marcia Costa|   2700|\n",
            "| Analista|Recursos Humanos|     13|  Luciana Prado|   4100|\n",
            "|Vendedora|          Vendas|     14| Roberta Amaral|   2800|\n",
            "|Instrutor|     Treinamento|     15|Rogerio Ribeiro|   4000|\n",
            "|Vendedora|          Vendas|     16|   Rosana Rocha|   3000|\n",
            "| Analista|        Projetos|     17|Claudio Queiroz|   6500|\n",
            "| Gerencia|   Administracao|     18|   Diego Chaves|   7500|\n",
            "|Instrutor|     Treinamento|     19|Sergio Nogueira|   5300|\n",
            "|Vendedora|          Vendas|     20|  Samantha Reis|   4000|\n",
            "+---------+----------------+-------+---------------+-------+\n",
            "\n"
          ],
          "name": "stdout"
        }
      ]
    },
    {
      "cell_type": "code",
      "metadata": {
        "id": "Im-GqbxjVKIo",
        "outputId": "030e07b2-4adf-4d25-93a1-163a5a615eea"
      },
      "source": [
        "df.printSchema()"
      ],
      "execution_count": null,
      "outputs": [
        {
          "output_type": "stream",
          "text": [
            "root\n",
            " |-- cargo: string (nullable = true)\n",
            " |-- departamento: string (nullable = true)\n",
            " |-- id_func: long (nullable = true)\n",
            " |-- nome: string (nullable = true)\n",
            " |-- salario: long (nullable = true)\n",
            "\n"
          ],
          "name": "stdout"
        }
      ]
    },
    {
      "cell_type": "code",
      "metadata": {
        "id": "AVoCoO7aVKIr",
        "outputId": "66a191eb-b9ef-4fd1-94e4-421766b1e236"
      },
      "source": [
        "df.columns"
      ],
      "execution_count": null,
      "outputs": [
        {
          "output_type": "execute_result",
          "data": {
            "text/plain": [
              "['cargo', 'departamento', 'id_func', 'nome', 'salario']"
            ]
          },
          "metadata": {
            "tags": []
          },
          "execution_count": 8
        }
      ]
    },
    {
      "cell_type": "code",
      "metadata": {
        "id": "hIso4oqgVKIs",
        "outputId": "43fb18f4-f341-43c9-cd2a-a8e220da29ea"
      },
      "source": [
        "df.describe"
      ],
      "execution_count": null,
      "outputs": [
        {
          "output_type": "execute_result",
          "data": {
            "text/plain": [
              "<bound method DataFrame.describe of DataFrame[cargo: string, departamento: string, id_func: bigint, nome: string, salario: bigint]>"
            ]
          },
          "metadata": {
            "tags": []
          },
          "execution_count": 9
        }
      ]
    },
    {
      "cell_type": "code",
      "metadata": {
        "id": "e8qbuzYSVKIt",
        "outputId": "d04e64ec-7b12-4541-f211-95c3c03e91b1"
      },
      "source": [
        "df.show()"
      ],
      "execution_count": null,
      "outputs": [
        {
          "output_type": "stream",
          "text": [
            "+---------+----------------+-------+---------------+-------+\n",
            "|    cargo|    departamento|id_func|           nome|salario|\n",
            "+---------+----------------+-------+---------------+-------+\n",
            "| Analista|        Projetos|      1|  Marcio Santos|   5000|\n",
            "|Instrutor|     Treinamento|      2|   Bruno Garcia|   4000|\n",
            "|Vendedora|          Vendas|      3|    Celia Silva|   3500|\n",
            "| Gerencia|Recursos Humanos|      4|   Beatriz Dias|   5500|\n",
            "|Instrutor|     Treinamento|      5| Sandro Correia|   4200|\n",
            "| Analista|        Projetos|      6|   Leticia Dias|   5100|\n",
            "| Analista|        Projetos|      7|   Cacio Farias|   5100|\n",
            "| Gerencia|   Administracao|      8|     Cezar Maia|   7000|\n",
            "|Vendedora|          Vendas|      9|   Amanda Nunes|   3500|\n",
            "|Vendedora|          Vendas|     10|   Paula Priore|   3500|\n",
            "| Analista|        Projetos|     11|     Carla Neto|   4000|\n",
            "|Vendedora|          Vendas|     12|   Marcia Costa|   2700|\n",
            "| Analista|Recursos Humanos|     13|  Luciana Prado|   4100|\n",
            "|Vendedora|          Vendas|     14| Roberta Amaral|   2800|\n",
            "|Instrutor|     Treinamento|     15|Rogerio Ribeiro|   4000|\n",
            "|Vendedora|          Vendas|     16|   Rosana Rocha|   3000|\n",
            "| Analista|        Projetos|     17|Claudio Queiroz|   6500|\n",
            "| Gerencia|   Administracao|     18|   Diego Chaves|   7500|\n",
            "|Instrutor|     Treinamento|     19|Sergio Nogueira|   5300|\n",
            "|Vendedora|          Vendas|     20|  Samantha Reis|   4000|\n",
            "+---------+----------------+-------+---------------+-------+\n",
            "\n"
          ],
          "name": "stdout"
        }
      ]
    },
    {
      "cell_type": "code",
      "metadata": {
        "id": "5ELxooV6VKIu"
      },
      "source": [
        "from pyspark.sql.types import StructField,StringType,IntegerType,StructType"
      ],
      "execution_count": null,
      "outputs": []
    },
    {
      "cell_type": "code",
      "metadata": {
        "id": "rR5g6nbfVKIu"
      },
      "source": [
        "data_schema = [StructField(\"cargo\", StringType(),\n",
        "True),StructField(\"departamento\", StringType(),\n",
        "True),StructField(\"id_func\", IntegerType(),\n",
        "True),StructField(\"nome\", StringType(),\n",
        "True),StructField(\"salario\", IntegerType(), True)]"
      ],
      "execution_count": null,
      "outputs": []
    },
    {
      "cell_type": "code",
      "metadata": {
        "id": "L1MWD-c-VKIv"
      },
      "source": [
        "final_struc = StructType(fields=data_schema)"
      ],
      "execution_count": null,
      "outputs": []
    },
    {
      "cell_type": "code",
      "metadata": {
        "id": "AChPat63VKIw"
      },
      "source": [
        "df = spark.read.json('/home/leonardo/4522/funcionarios.json', schema=final_struc)"
      ],
      "execution_count": null,
      "outputs": []
    },
    {
      "cell_type": "code",
      "metadata": {
        "id": "3pAO1D85VKIx",
        "outputId": "2e66e002-08c1-42f8-a981-be5a0e8a4ef7"
      },
      "source": [
        "df.printSchema()"
      ],
      "execution_count": null,
      "outputs": [
        {
          "output_type": "stream",
          "text": [
            "root\n",
            " |-- cargo: string (nullable = true)\n",
            " |-- departamento: string (nullable = true)\n",
            " |-- id_func: integer (nullable = true)\n",
            " |-- nome: string (nullable = true)\n",
            " |-- salario: integer (nullable = true)\n",
            "\n"
          ],
          "name": "stdout"
        }
      ]
    },
    {
      "cell_type": "code",
      "metadata": {
        "id": "xwVtTJRnVKIx",
        "outputId": "689c4a22-7cbb-4685-df6d-ee585adee1c3"
      },
      "source": [
        "df['nome']"
      ],
      "execution_count": null,
      "outputs": [
        {
          "output_type": "execute_result",
          "data": {
            "text/plain": [
              "Column<b'nome'>"
            ]
          },
          "metadata": {
            "tags": []
          },
          "execution_count": 17
        }
      ]
    },
    {
      "cell_type": "code",
      "metadata": {
        "id": "SO7Qqa1TVKIy",
        "outputId": "7486df74-48f2-44ad-caa3-5f2105024dad"
      },
      "source": [
        "type(df['nome'])"
      ],
      "execution_count": null,
      "outputs": [
        {
          "output_type": "execute_result",
          "data": {
            "text/plain": [
              "pyspark.sql.column.Column"
            ]
          },
          "metadata": {
            "tags": []
          },
          "execution_count": 18
        }
      ]
    },
    {
      "cell_type": "code",
      "metadata": {
        "id": "vVuxOpk3VKIz",
        "outputId": "1bcbb7f0-9e03-4d7c-86b0-649ec3e6984e"
      },
      "source": [
        "df.select('nome')"
      ],
      "execution_count": null,
      "outputs": [
        {
          "output_type": "execute_result",
          "data": {
            "text/plain": [
              "DataFrame[nome: string]"
            ]
          },
          "metadata": {
            "tags": []
          },
          "execution_count": 19
        }
      ]
    },
    {
      "cell_type": "code",
      "metadata": {
        "id": "fsRiviX2VKIz",
        "outputId": "06693ec0-cc4a-4bb5-dad3-0d188371fdb2"
      },
      "source": [
        "df.select('nome').show()"
      ],
      "execution_count": null,
      "outputs": [
        {
          "output_type": "stream",
          "text": [
            "+---------------+\n",
            "|           nome|\n",
            "+---------------+\n",
            "|  Marcio Santos|\n",
            "|   Bruno Garcia|\n",
            "|    Celia Silva|\n",
            "|   Beatriz Dias|\n",
            "| Sandro Correia|\n",
            "|   Leticia Dias|\n",
            "|   Cacio Farias|\n",
            "|     Cezar Maia|\n",
            "|   Amanda Nunes|\n",
            "|   Paula Priore|\n",
            "|     Carla Neto|\n",
            "|   Marcia Costa|\n",
            "|  Luciana Prado|\n",
            "| Roberta Amaral|\n",
            "|Rogerio Ribeiro|\n",
            "|   Rosana Rocha|\n",
            "|Claudio Queiroz|\n",
            "|   Diego Chaves|\n",
            "|Sergio Nogueira|\n",
            "|  Samantha Reis|\n",
            "+---------------+\n",
            "\n"
          ],
          "name": "stdout"
        }
      ]
    },
    {
      "cell_type": "code",
      "metadata": {
        "id": "pjcKAl7OVKI0",
        "outputId": "9454b1ce-579e-4508-cea6-a8339c8a8ed8"
      },
      "source": [
        "df.head(5)"
      ],
      "execution_count": null,
      "outputs": [
        {
          "output_type": "execute_result",
          "data": {
            "text/plain": [
              "[Row(cargo='Analista', departamento='Projetos', id_func=1, nome='Marcio Santos', salario=5000),\n",
              " Row(cargo='Instrutor', departamento='Treinamento', id_func=2, nome='Bruno Garcia', salario=4000),\n",
              " Row(cargo='Vendedora', departamento='Vendas', id_func=3, nome='Celia Silva', salario=3500),\n",
              " Row(cargo='Gerencia', departamento='Recursos Humanos', id_func=4, nome='Beatriz Dias', salario=5500),\n",
              " Row(cargo='Instrutor', departamento='Treinamento', id_func=5, nome='Sandro Correia', salario=4200)]"
            ]
          },
          "metadata": {
            "tags": []
          },
          "execution_count": 21
        }
      ]
    },
    {
      "cell_type": "code",
      "metadata": {
        "id": "hBLOMI4dVKI0",
        "outputId": "bc569f19-dd86-4c5c-c282-e2dc1d02fe33"
      },
      "source": [
        "df.select(['nome','departamento'])"
      ],
      "execution_count": null,
      "outputs": [
        {
          "output_type": "execute_result",
          "data": {
            "text/plain": [
              "DataFrame[nome: string, departamento: string]"
            ]
          },
          "metadata": {
            "tags": []
          },
          "execution_count": 22
        }
      ]
    },
    {
      "cell_type": "code",
      "metadata": {
        "id": "a7me7cnwVKI1",
        "outputId": "16a97cb8-2f5c-4292-c3d5-236731208d05"
      },
      "source": [
        "df.select(['nome','departamento']).show()"
      ],
      "execution_count": null,
      "outputs": [
        {
          "output_type": "stream",
          "text": [
            "+---------------+----------------+\n",
            "|           nome|    departamento|\n",
            "+---------------+----------------+\n",
            "|  Marcio Santos|        Projetos|\n",
            "|   Bruno Garcia|     Treinamento|\n",
            "|    Celia Silva|          Vendas|\n",
            "|   Beatriz Dias|Recursos Humanos|\n",
            "| Sandro Correia|     Treinamento|\n",
            "|   Leticia Dias|        Projetos|\n",
            "|   Cacio Farias|        Projetos|\n",
            "|     Cezar Maia|   Administracao|\n",
            "|   Amanda Nunes|          Vendas|\n",
            "|   Paula Priore|          Vendas|\n",
            "|     Carla Neto|        Projetos|\n",
            "|   Marcia Costa|          Vendas|\n",
            "|  Luciana Prado|Recursos Humanos|\n",
            "| Roberta Amaral|          Vendas|\n",
            "|Rogerio Ribeiro|     Treinamento|\n",
            "|   Rosana Rocha|          Vendas|\n",
            "|Claudio Queiroz|        Projetos|\n",
            "|   Diego Chaves|   Administracao|\n",
            "|Sergio Nogueira|     Treinamento|\n",
            "|  Samantha Reis|          Vendas|\n",
            "+---------------+----------------+\n",
            "\n"
          ],
          "name": "stdout"
        }
      ]
    },
    {
      "cell_type": "code",
      "metadata": {
        "id": "DAASRo7JVKI2",
        "outputId": "bdce543e-7581-4353-e950-7f86aa1ef026"
      },
      "source": [
        "df.show()"
      ],
      "execution_count": null,
      "outputs": [
        {
          "output_type": "stream",
          "text": [
            "+---------+----------------+-------+---------------+-------+\n",
            "|    cargo|    departamento|id_func|           nome|salario|\n",
            "+---------+----------------+-------+---------------+-------+\n",
            "| Analista|        Projetos|      1|  Marcio Santos|   5000|\n",
            "|Instrutor|     Treinamento|      2|   Bruno Garcia|   4000|\n",
            "|Vendedora|          Vendas|      3|    Celia Silva|   3500|\n",
            "| Gerencia|Recursos Humanos|      4|   Beatriz Dias|   5500|\n",
            "|Instrutor|     Treinamento|      5| Sandro Correia|   4200|\n",
            "| Analista|        Projetos|      6|   Leticia Dias|   5100|\n",
            "| Analista|        Projetos|      7|   Cacio Farias|   5100|\n",
            "| Gerencia|   Administracao|      8|     Cezar Maia|   7000|\n",
            "|Vendedora|          Vendas|      9|   Amanda Nunes|   3500|\n",
            "|Vendedora|          Vendas|     10|   Paula Priore|   3500|\n",
            "| Analista|        Projetos|     11|     Carla Neto|   4000|\n",
            "|Vendedora|          Vendas|     12|   Marcia Costa|   2700|\n",
            "| Analista|Recursos Humanos|     13|  Luciana Prado|   4100|\n",
            "|Vendedora|          Vendas|     14| Roberta Amaral|   2800|\n",
            "|Instrutor|     Treinamento|     15|Rogerio Ribeiro|   4000|\n",
            "|Vendedora|          Vendas|     16|   Rosana Rocha|   3000|\n",
            "| Analista|        Projetos|     17|Claudio Queiroz|   6500|\n",
            "| Gerencia|   Administracao|     18|   Diego Chaves|   7500|\n",
            "|Instrutor|     Treinamento|     19|Sergio Nogueira|   5300|\n",
            "|Vendedora|          Vendas|     20|  Samantha Reis|   4000|\n",
            "+---------+----------------+-------+---------------+-------+\n",
            "\n"
          ],
          "name": "stdout"
        }
      ]
    },
    {
      "cell_type": "code",
      "metadata": {
        "id": "LnpRsyr6VKI2",
        "outputId": "b7bb284b-88e6-49a0-e0df-cedc7ca4591d"
      },
      "source": [
        "df.withColumn('gratificacao',df['salario']).show()"
      ],
      "execution_count": null,
      "outputs": [
        {
          "output_type": "stream",
          "text": [
            "+---------+----------------+-------+---------------+-------+------------+\n",
            "|    cargo|    departamento|id_func|           nome|salario|gratificacao|\n",
            "+---------+----------------+-------+---------------+-------+------------+\n",
            "| Analista|        Projetos|      1|  Marcio Santos|   5000|        5000|\n",
            "|Instrutor|     Treinamento|      2|   Bruno Garcia|   4000|        4000|\n",
            "|Vendedora|          Vendas|      3|    Celia Silva|   3500|        3500|\n",
            "| Gerencia|Recursos Humanos|      4|   Beatriz Dias|   5500|        5500|\n",
            "|Instrutor|     Treinamento|      5| Sandro Correia|   4200|        4200|\n",
            "| Analista|        Projetos|      6|   Leticia Dias|   5100|        5100|\n",
            "| Analista|        Projetos|      7|   Cacio Farias|   5100|        5100|\n",
            "| Gerencia|   Administracao|      8|     Cezar Maia|   7000|        7000|\n",
            "|Vendedora|          Vendas|      9|   Amanda Nunes|   3500|        3500|\n",
            "|Vendedora|          Vendas|     10|   Paula Priore|   3500|        3500|\n",
            "| Analista|        Projetos|     11|     Carla Neto|   4000|        4000|\n",
            "|Vendedora|          Vendas|     12|   Marcia Costa|   2700|        2700|\n",
            "| Analista|Recursos Humanos|     13|  Luciana Prado|   4100|        4100|\n",
            "|Vendedora|          Vendas|     14| Roberta Amaral|   2800|        2800|\n",
            "|Instrutor|     Treinamento|     15|Rogerio Ribeiro|   4000|        4000|\n",
            "|Vendedora|          Vendas|     16|   Rosana Rocha|   3000|        3000|\n",
            "| Analista|        Projetos|     17|Claudio Queiroz|   6500|        6500|\n",
            "| Gerencia|   Administracao|     18|   Diego Chaves|   7500|        7500|\n",
            "|Instrutor|     Treinamento|     19|Sergio Nogueira|   5300|        5300|\n",
            "|Vendedora|          Vendas|     20|  Samantha Reis|   4000|        4000|\n",
            "+---------+----------------+-------+---------------+-------+------------+\n",
            "\n"
          ],
          "name": "stdout"
        }
      ]
    },
    {
      "cell_type": "code",
      "metadata": {
        "id": "54QoxO2JVKI3",
        "outputId": "9be81a2c-2511-403e-e9ed-d724ad07a332"
      },
      "source": [
        "df.withColumnRenamed('id_func','id').show()"
      ],
      "execution_count": null,
      "outputs": [
        {
          "output_type": "stream",
          "text": [
            "+---------+----------------+---+---------------+-------+\n",
            "|    cargo|    departamento| id|           nome|salario|\n",
            "+---------+----------------+---+---------------+-------+\n",
            "| Analista|        Projetos|  1|  Marcio Santos|   5000|\n",
            "|Instrutor|     Treinamento|  2|   Bruno Garcia|   4000|\n",
            "|Vendedora|          Vendas|  3|    Celia Silva|   3500|\n",
            "| Gerencia|Recursos Humanos|  4|   Beatriz Dias|   5500|\n",
            "|Instrutor|     Treinamento|  5| Sandro Correia|   4200|\n",
            "| Analista|        Projetos|  6|   Leticia Dias|   5100|\n",
            "| Analista|        Projetos|  7|   Cacio Farias|   5100|\n",
            "| Gerencia|   Administracao|  8|     Cezar Maia|   7000|\n",
            "|Vendedora|          Vendas|  9|   Amanda Nunes|   3500|\n",
            "|Vendedora|          Vendas| 10|   Paula Priore|   3500|\n",
            "| Analista|        Projetos| 11|     Carla Neto|   4000|\n",
            "|Vendedora|          Vendas| 12|   Marcia Costa|   2700|\n",
            "| Analista|Recursos Humanos| 13|  Luciana Prado|   4100|\n",
            "|Vendedora|          Vendas| 14| Roberta Amaral|   2800|\n",
            "|Instrutor|     Treinamento| 15|Rogerio Ribeiro|   4000|\n",
            "|Vendedora|          Vendas| 16|   Rosana Rocha|   3000|\n",
            "| Analista|        Projetos| 17|Claudio Queiroz|   6500|\n",
            "| Gerencia|   Administracao| 18|   Diego Chaves|   7500|\n",
            "|Instrutor|     Treinamento| 19|Sergio Nogueira|   5300|\n",
            "|Vendedora|          Vendas| 20|  Samantha Reis|   4000|\n",
            "+---------+----------------+---+---------------+-------+\n",
            "\n"
          ],
          "name": "stdout"
        }
      ]
    },
    {
      "cell_type": "code",
      "metadata": {
        "id": "PAYWRfJ3VKI4",
        "outputId": "c38ef760-d753-4c71-e415-57b68adf221b"
      },
      "source": [
        "df.withColumn('gratificacao',df['salario']/2).show()"
      ],
      "execution_count": null,
      "outputs": [
        {
          "output_type": "stream",
          "text": [
            "+---------+----------------+-------+---------------+-------+------------+\n",
            "|    cargo|    departamento|id_func|           nome|salario|gratificacao|\n",
            "+---------+----------------+-------+---------------+-------+------------+\n",
            "| Analista|        Projetos|      1|  Marcio Santos|   5000|      2500.0|\n",
            "|Instrutor|     Treinamento|      2|   Bruno Garcia|   4000|      2000.0|\n",
            "|Vendedora|          Vendas|      3|    Celia Silva|   3500|      1750.0|\n",
            "| Gerencia|Recursos Humanos|      4|   Beatriz Dias|   5500|      2750.0|\n",
            "|Instrutor|     Treinamento|      5| Sandro Correia|   4200|      2100.0|\n",
            "| Analista|        Projetos|      6|   Leticia Dias|   5100|      2550.0|\n",
            "| Analista|        Projetos|      7|   Cacio Farias|   5100|      2550.0|\n",
            "| Gerencia|   Administracao|      8|     Cezar Maia|   7000|      3500.0|\n",
            "|Vendedora|          Vendas|      9|   Amanda Nunes|   3500|      1750.0|\n",
            "|Vendedora|          Vendas|     10|   Paula Priore|   3500|      1750.0|\n",
            "| Analista|        Projetos|     11|     Carla Neto|   4000|      2000.0|\n",
            "|Vendedora|          Vendas|     12|   Marcia Costa|   2700|      1350.0|\n",
            "| Analista|Recursos Humanos|     13|  Luciana Prado|   4100|      2050.0|\n",
            "|Vendedora|          Vendas|     14| Roberta Amaral|   2800|      1400.0|\n",
            "|Instrutor|     Treinamento|     15|Rogerio Ribeiro|   4000|      2000.0|\n",
            "|Vendedora|          Vendas|     16|   Rosana Rocha|   3000|      1500.0|\n",
            "| Analista|        Projetos|     17|Claudio Queiroz|   6500|      3250.0|\n",
            "| Gerencia|   Administracao|     18|   Diego Chaves|   7500|      3750.0|\n",
            "|Instrutor|     Treinamento|     19|Sergio Nogueira|   5300|      2650.0|\n",
            "|Vendedora|          Vendas|     20|  Samantha Reis|   4000|      2000.0|\n",
            "+---------+----------------+-------+---------------+-------+------------+\n",
            "\n"
          ],
          "name": "stdout"
        }
      ]
    },
    {
      "cell_type": "code",
      "metadata": {
        "id": "_XLDd6OBVKI5",
        "outputId": "f512986d-4f80-47dc-ec15-cd689ac64046"
      },
      "source": [
        "df.show()"
      ],
      "execution_count": null,
      "outputs": [
        {
          "output_type": "stream",
          "text": [
            "+---------+----------------+-------+---------------+-------+\n",
            "|    cargo|    departamento|id_func|           nome|salario|\n",
            "+---------+----------------+-------+---------------+-------+\n",
            "| Analista|        Projetos|      1|  Marcio Santos|   5000|\n",
            "|Instrutor|     Treinamento|      2|   Bruno Garcia|   4000|\n",
            "|Vendedora|          Vendas|      3|    Celia Silva|   3500|\n",
            "| Gerencia|Recursos Humanos|      4|   Beatriz Dias|   5500|\n",
            "|Instrutor|     Treinamento|      5| Sandro Correia|   4200|\n",
            "| Analista|        Projetos|      6|   Leticia Dias|   5100|\n",
            "| Analista|        Projetos|      7|   Cacio Farias|   5100|\n",
            "| Gerencia|   Administracao|      8|     Cezar Maia|   7000|\n",
            "|Vendedora|          Vendas|      9|   Amanda Nunes|   3500|\n",
            "|Vendedora|          Vendas|     10|   Paula Priore|   3500|\n",
            "| Analista|        Projetos|     11|     Carla Neto|   4000|\n",
            "|Vendedora|          Vendas|     12|   Marcia Costa|   2700|\n",
            "| Analista|Recursos Humanos|     13|  Luciana Prado|   4100|\n",
            "|Vendedora|          Vendas|     14| Roberta Amaral|   2800|\n",
            "|Instrutor|     Treinamento|     15|Rogerio Ribeiro|   4000|\n",
            "|Vendedora|          Vendas|     16|   Rosana Rocha|   3000|\n",
            "| Analista|        Projetos|     17|Claudio Queiroz|   6500|\n",
            "| Gerencia|   Administracao|     18|   Diego Chaves|   7500|\n",
            "|Instrutor|     Treinamento|     19|Sergio Nogueira|   5300|\n",
            "|Vendedora|          Vendas|     20|  Samantha Reis|   4000|\n",
            "+---------+----------------+-------+---------------+-------+\n",
            "\n"
          ],
          "name": "stdout"
        }
      ]
    },
    {
      "cell_type": "code",
      "metadata": {
        "id": "WqljbCDnVKI7"
      },
      "source": [
        "df.createOrReplaceTempView(\"funcionarios\")"
      ],
      "execution_count": null,
      "outputs": []
    },
    {
      "cell_type": "code",
      "metadata": {
        "id": "iQhe8A3CVKI7"
      },
      "source": [
        "sql_results = spark.sql(\"SELECT * FROM funcionarios\")"
      ],
      "execution_count": null,
      "outputs": []
    },
    {
      "cell_type": "code",
      "metadata": {
        "id": "TihyfqdkVKI7",
        "outputId": "de0c8bf8-b15d-4c09-d4d7-88bc93d4bb03"
      },
      "source": [
        "sql_results"
      ],
      "execution_count": null,
      "outputs": [
        {
          "output_type": "execute_result",
          "data": {
            "text/plain": [
              "DataFrame[cargo: string, departamento: string, id_func: int, nome: string, salario: int]"
            ]
          },
          "metadata": {
            "tags": []
          },
          "execution_count": 31
        }
      ]
    },
    {
      "cell_type": "code",
      "metadata": {
        "id": "ebOBANr6VKI7",
        "outputId": "d0de256b-644b-4d78-f60d-652d44d8844c"
      },
      "source": [
        "sql_results.show()"
      ],
      "execution_count": null,
      "outputs": [
        {
          "output_type": "stream",
          "text": [
            "+---------+----------------+-------+---------------+-------+\n",
            "|    cargo|    departamento|id_func|           nome|salario|\n",
            "+---------+----------------+-------+---------------+-------+\n",
            "| Analista|        Projetos|      1|  Marcio Santos|   5000|\n",
            "|Instrutor|     Treinamento|      2|   Bruno Garcia|   4000|\n",
            "|Vendedora|          Vendas|      3|    Celia Silva|   3500|\n",
            "| Gerencia|Recursos Humanos|      4|   Beatriz Dias|   5500|\n",
            "|Instrutor|     Treinamento|      5| Sandro Correia|   4200|\n",
            "| Analista|        Projetos|      6|   Leticia Dias|   5100|\n",
            "| Analista|        Projetos|      7|   Cacio Farias|   5100|\n",
            "| Gerencia|   Administracao|      8|     Cezar Maia|   7000|\n",
            "|Vendedora|          Vendas|      9|   Amanda Nunes|   3500|\n",
            "|Vendedora|          Vendas|     10|   Paula Priore|   3500|\n",
            "| Analista|        Projetos|     11|     Carla Neto|   4000|\n",
            "|Vendedora|          Vendas|     12|   Marcia Costa|   2700|\n",
            "| Analista|Recursos Humanos|     13|  Luciana Prado|   4100|\n",
            "|Vendedora|          Vendas|     14| Roberta Amaral|   2800|\n",
            "|Instrutor|     Treinamento|     15|Rogerio Ribeiro|   4000|\n",
            "|Vendedora|          Vendas|     16|   Rosana Rocha|   3000|\n",
            "| Analista|        Projetos|     17|Claudio Queiroz|   6500|\n",
            "| Gerencia|   Administracao|     18|   Diego Chaves|   7500|\n",
            "|Instrutor|     Treinamento|     19|Sergio Nogueira|   5300|\n",
            "|Vendedora|          Vendas|     20|  Samantha Reis|   4000|\n",
            "+---------+----------------+-------+---------------+-------+\n",
            "\n"
          ],
          "name": "stdout"
        }
      ]
    },
    {
      "cell_type": "code",
      "metadata": {
        "id": "-fx0WY6rVKI7",
        "outputId": "84d4afa4-9ecc-4d39-ccd5-a270eb0cd95c"
      },
      "source": [
        "spark.sql(\"SELECT * FROM funcionarios WHERE salario=5100\").show()"
      ],
      "execution_count": null,
      "outputs": [
        {
          "output_type": "stream",
          "text": [
            "+--------+------------+-------+------------+-------+\n",
            "|   cargo|departamento|id_func|        nome|salario|\n",
            "+--------+------------+-------+------------+-------+\n",
            "|Analista|    Projetos|      6|Leticia Dias|   5100|\n",
            "|Analista|    Projetos|      7|Cacio Farias|   5100|\n",
            "+--------+------------+-------+------------+-------+\n",
            "\n"
          ],
          "name": "stdout"
        }
      ]
    },
    {
      "cell_type": "code",
      "metadata": {
        "id": "-0UY3qmPVKI8"
      },
      "source": [
        ""
      ],
      "execution_count": null,
      "outputs": []
    }
  ]
}